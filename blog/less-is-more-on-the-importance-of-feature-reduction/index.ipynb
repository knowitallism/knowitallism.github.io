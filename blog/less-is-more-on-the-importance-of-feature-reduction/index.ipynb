{
 "cells": [
  {
   "cell_type": "markdown",
   "metadata": {},
   "source": [
    "Write your post here."
   ]
  }
 ],
 "metadata": {
  "kernelspec": {
   "display_name": "Python 3",
   "env": {},
   "language": "python",
   "name": "python3"
  },
  "nikola": {
   "category": "",
   "date": "2017-08-24 08:46:37 UTC-04:00",
   "description": "",
   "link": "",
   "slug": "less-is-more-on-the-importance-of-feature-reduction",
   "tags": "",
   "title": "Less is More: On the Importance of Feature Reduction",
   "type": "text"
  }
 },
 "nbformat": 4,
 "nbformat_minor": 2
}
